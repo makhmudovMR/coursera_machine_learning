{
 "cells": [
  {
   "cell_type": "code",
   "execution_count": 47,
   "metadata": {
    "collapsed": true
   },
   "outputs": [],
   "source": [
    "import random\n",
    "import numpy as np\n",
    "import matplotlib.pyplot as plt\n",
    "%matplotlib inline"
   ]
  },
  {
   "cell_type": "code",
   "execution_count": 48,
   "metadata": {},
   "outputs": [],
   "source": [
    "def derivetive(x, f):\n",
    "    delta_x = 0.001\n",
    "    slope = delta_x / (f(x + delta_x) - f(x))\n",
    "    \n",
    "\n",
    "def model(x, theta_0 = 0, theta_1 = 0):\n",
    "    theta_0 + theta_1*x\n",
    "\n",
    "def MSE(y,Y):\n",
    "    # y - target\n",
    "    # Y - current / predict\n",
    "    return (y-Y)**2\n",
    "\n",
    "class LinearRegrssion:\n",
    "    \n",
    "    def __init__(self, theta_0 = 0, theta_1 = 0, learning_rate = 0.001):\n",
    "        self.theta_0 = theta_0\n",
    "        self.theta_1 = theta_1\n",
    "        self.learning_rate = learning_rate\n",
    "        \n",
    "    \n",
    "    def build(self, x, y):\n",
    "        linear = [self.theta_0 + self.theta_1 * x for x in range(10)]\n",
    "        plt.scatter(x,y)\n",
    "        plt.plot(x, linear)\n",
    "        plt.grid()\n",
    "        \n",
    "        \n",
    "    def train(self, y):\n",
    "        \n",
    "        for i in range(2000):\n",
    "            theta_0_g = 0\n",
    "            theta_1_g = 0\n",
    "            for ix, iy, in zip([x for x in range(10)], y):\n",
    "                theta_0_g +=((self.theta_0 + (self.theta_1 * ix)) - iy)\n",
    "                theta_1_g +=((self.theta_1 + (self.theta_1 * ix)) - iy) * ix\n",
    "                \n",
    "            self.theta_0 -= self.learning_rate * theta_0_g\n",
    "            self.theta_1 -= self.learning_rate * theta_1_g\n",
    "        \n",
    "        x = [x for x in range(10)]\n",
    "        linear = [self.theta_0 + self.theta_1 * x for x in range(10)]\n",
    "        plt.scatter(x,y)\n",
    "        plt.plot(x,linear)\n",
    "        plt.grid()"
   ]
  },
  {
   "cell_type": "code",
   "execution_count": 49,
   "metadata": {},
   "outputs": [
    {
     "data": {
      "image/png": "[encoded data removed]",
      "text/plain": [
       "<matplotlib.figure.Figure at 0x1c3c3366630>"
      ]
     },
     "metadata": {},
     "output_type": "display_data"
    }
   ],
   "source": [
    "lin = LinearRegrssion(1, 0.5)\n",
    "lin.build([x for x in range(10)],[4,3,5,6,5,7,6,8,9,9])"
   ]
  },
  {
   "cell_type": "code",
   "execution_count": 50,
   "metadata": {},
   "outputs": [
    {
     "data": {
      "image/png": "[encoded data removed]",
      "text/plain": [
       "<matplotlib.figure.Figure at 0x1c3c26fe358>"
      ]
     },
     "metadata": {},
     "output_type": "display_data"
    }
   ],
   "source": [
    "lin.train([4,3,5,6,5,7,6,8,9,9])"
   ]
  },
  {
   "cell_type": "code",
   "execution_count": null,
   "metadata": {
    "collapsed": true
   },
   "outputs": [],
   "source": []
  }
 ],
 "metadata": {
  "kernelspec": {
   "display_name": "Python 3",
   "language": "python",
   "name": "python3"
  },
  "language_info": {
   "codemirror_mode": {
    "name": "ipython",
    "version": 3
   },
   "file_extension": ".py",
   "mimetype": "text/x-python",
   "name": "python",
   "nbconvert_exporter": "python",
   "pygments_lexer": "ipython3",
   "version": "3.6.3"
  }
 },
 "nbformat": 4,
 "nbformat_minor": 2
}
